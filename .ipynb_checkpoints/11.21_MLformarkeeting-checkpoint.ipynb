{
 "cells": [
  {
   "cell_type": "code",
   "execution_count": 80,
   "metadata": {},
   "outputs": [],
   "source": [
    "import pandas as pd\n",
    "import numpy as np\n",
    "from sklearn.preprocessing import StandardScaler\n",
    "from sklearn import tree\n",
    "from sklearn.model_selection import train_test_split\n",
    "from sklearn.metrics import accuracy_score\n",
    "from sklearn.cluster import KMeans\n",
    "\n",
    "from sklearn.linear_model import LogisticRegression\n",
    "from sklearn.metrics import accuracy_score"
   ]
  },
  {
   "cell_type": "code",
   "execution_count": 58,
   "metadata": {},
   "outputs": [],
   "source": [
    "telco_raw = pd.read_csv('./data/telco.csv')\n",
    "telco_raw['TotalCharges'] = pd.to_numeric(telco_raw['TotalCharges'], errors = 'coerce')"
   ]
  },
  {
   "cell_type": "markdown",
   "metadata": {},
   "source": [
    "# ML Strategies and Use Cases"
   ]
  },
  {
   "cell_type": "markdown",
   "metadata": {},
   "source": [
    "# Preparation for Modeling"
   ]
  },
  {
   "cell_type": "code",
   "execution_count": 59,
   "metadata": {},
   "outputs": [
    {
     "data": {
      "text/html": [
       "<div>\n",
       "<style scoped>\n",
       "    .dataframe tbody tr th:only-of-type {\n",
       "        vertical-align: middle;\n",
       "    }\n",
       "\n",
       "    .dataframe tbody tr th {\n",
       "        vertical-align: top;\n",
       "    }\n",
       "\n",
       "    .dataframe thead th {\n",
       "        text-align: right;\n",
       "    }\n",
       "</style>\n",
       "<table border=\"1\" class=\"dataframe\">\n",
       "  <thead>\n",
       "    <tr style=\"text-align: right;\">\n",
       "      <th></th>\n",
       "      <th>customerID</th>\n",
       "      <th>gender</th>\n",
       "      <th>SeniorCitizen</th>\n",
       "      <th>Partner</th>\n",
       "      <th>Dependents</th>\n",
       "      <th>tenure</th>\n",
       "      <th>PhoneService</th>\n",
       "      <th>MultipleLines</th>\n",
       "      <th>InternetService</th>\n",
       "      <th>OnlineSecurity</th>\n",
       "      <th>...</th>\n",
       "      <th>DeviceProtection</th>\n",
       "      <th>TechSupport</th>\n",
       "      <th>StreamingTV</th>\n",
       "      <th>StreamingMovies</th>\n",
       "      <th>Contract</th>\n",
       "      <th>PaperlessBilling</th>\n",
       "      <th>PaymentMethod</th>\n",
       "      <th>MonthlyCharges</th>\n",
       "      <th>TotalCharges</th>\n",
       "      <th>Churn</th>\n",
       "    </tr>\n",
       "  </thead>\n",
       "  <tbody>\n",
       "    <tr>\n",
       "      <th>0</th>\n",
       "      <td>7590-VHVEG</td>\n",
       "      <td>Female</td>\n",
       "      <td>0</td>\n",
       "      <td>Yes</td>\n",
       "      <td>No</td>\n",
       "      <td>1</td>\n",
       "      <td>No</td>\n",
       "      <td>No phone service</td>\n",
       "      <td>DSL</td>\n",
       "      <td>No</td>\n",
       "      <td>...</td>\n",
       "      <td>No</td>\n",
       "      <td>No</td>\n",
       "      <td>No</td>\n",
       "      <td>No</td>\n",
       "      <td>Month-to-month</td>\n",
       "      <td>Yes</td>\n",
       "      <td>Electronic check</td>\n",
       "      <td>29.85</td>\n",
       "      <td>29.85</td>\n",
       "      <td>No</td>\n",
       "    </tr>\n",
       "    <tr>\n",
       "      <th>1</th>\n",
       "      <td>5575-GNVDE</td>\n",
       "      <td>Male</td>\n",
       "      <td>0</td>\n",
       "      <td>No</td>\n",
       "      <td>No</td>\n",
       "      <td>34</td>\n",
       "      <td>Yes</td>\n",
       "      <td>No</td>\n",
       "      <td>DSL</td>\n",
       "      <td>Yes</td>\n",
       "      <td>...</td>\n",
       "      <td>Yes</td>\n",
       "      <td>No</td>\n",
       "      <td>No</td>\n",
       "      <td>No</td>\n",
       "      <td>One year</td>\n",
       "      <td>No</td>\n",
       "      <td>Mailed check</td>\n",
       "      <td>56.95</td>\n",
       "      <td>1889.50</td>\n",
       "      <td>No</td>\n",
       "    </tr>\n",
       "    <tr>\n",
       "      <th>2</th>\n",
       "      <td>3668-QPYBK</td>\n",
       "      <td>Male</td>\n",
       "      <td>0</td>\n",
       "      <td>No</td>\n",
       "      <td>No</td>\n",
       "      <td>2</td>\n",
       "      <td>Yes</td>\n",
       "      <td>No</td>\n",
       "      <td>DSL</td>\n",
       "      <td>Yes</td>\n",
       "      <td>...</td>\n",
       "      <td>No</td>\n",
       "      <td>No</td>\n",
       "      <td>No</td>\n",
       "      <td>No</td>\n",
       "      <td>Month-to-month</td>\n",
       "      <td>Yes</td>\n",
       "      <td>Mailed check</td>\n",
       "      <td>53.85</td>\n",
       "      <td>108.15</td>\n",
       "      <td>Yes</td>\n",
       "    </tr>\n",
       "    <tr>\n",
       "      <th>3</th>\n",
       "      <td>7795-CFOCW</td>\n",
       "      <td>Male</td>\n",
       "      <td>0</td>\n",
       "      <td>No</td>\n",
       "      <td>No</td>\n",
       "      <td>45</td>\n",
       "      <td>No</td>\n",
       "      <td>No phone service</td>\n",
       "      <td>DSL</td>\n",
       "      <td>Yes</td>\n",
       "      <td>...</td>\n",
       "      <td>Yes</td>\n",
       "      <td>Yes</td>\n",
       "      <td>No</td>\n",
       "      <td>No</td>\n",
       "      <td>One year</td>\n",
       "      <td>No</td>\n",
       "      <td>Bank transfer (automatic)</td>\n",
       "      <td>42.30</td>\n",
       "      <td>1840.75</td>\n",
       "      <td>No</td>\n",
       "    </tr>\n",
       "    <tr>\n",
       "      <th>4</th>\n",
       "      <td>9237-HQITU</td>\n",
       "      <td>Female</td>\n",
       "      <td>0</td>\n",
       "      <td>No</td>\n",
       "      <td>No</td>\n",
       "      <td>2</td>\n",
       "      <td>Yes</td>\n",
       "      <td>No</td>\n",
       "      <td>Fiber optic</td>\n",
       "      <td>No</td>\n",
       "      <td>...</td>\n",
       "      <td>No</td>\n",
       "      <td>No</td>\n",
       "      <td>No</td>\n",
       "      <td>No</td>\n",
       "      <td>Month-to-month</td>\n",
       "      <td>Yes</td>\n",
       "      <td>Electronic check</td>\n",
       "      <td>70.70</td>\n",
       "      <td>151.65</td>\n",
       "      <td>Yes</td>\n",
       "    </tr>\n",
       "  </tbody>\n",
       "</table>\n",
       "<p>5 rows × 21 columns</p>\n",
       "</div>"
      ],
      "text/plain": [
       "   customerID  gender  SeniorCitizen Partner Dependents  tenure PhoneService  \\\n",
       "0  7590-VHVEG  Female              0     Yes         No       1           No   \n",
       "1  5575-GNVDE    Male              0      No         No      34          Yes   \n",
       "2  3668-QPYBK    Male              0      No         No       2          Yes   \n",
       "3  7795-CFOCW    Male              0      No         No      45           No   \n",
       "4  9237-HQITU  Female              0      No         No       2          Yes   \n",
       "\n",
       "      MultipleLines InternetService OnlineSecurity  ... DeviceProtection  \\\n",
       "0  No phone service             DSL             No  ...               No   \n",
       "1                No             DSL            Yes  ...              Yes   \n",
       "2                No             DSL            Yes  ...               No   \n",
       "3  No phone service             DSL            Yes  ...              Yes   \n",
       "4                No     Fiber optic             No  ...               No   \n",
       "\n",
       "  TechSupport StreamingTV StreamingMovies        Contract PaperlessBilling  \\\n",
       "0          No          No              No  Month-to-month              Yes   \n",
       "1          No          No              No        One year               No   \n",
       "2          No          No              No  Month-to-month              Yes   \n",
       "3         Yes          No              No        One year               No   \n",
       "4          No          No              No  Month-to-month              Yes   \n",
       "\n",
       "               PaymentMethod MonthlyCharges  TotalCharges  Churn  \n",
       "0           Electronic check          29.85         29.85     No  \n",
       "1               Mailed check          56.95       1889.50     No  \n",
       "2               Mailed check          53.85        108.15    Yes  \n",
       "3  Bank transfer (automatic)          42.30       1840.75     No  \n",
       "4           Electronic check          70.70        151.65    Yes  \n",
       "\n",
       "[5 rows x 21 columns]"
      ]
     },
     "execution_count": 59,
     "metadata": {},
     "output_type": "execute_result"
    }
   ],
   "source": [
    "telco_raw.head()"
   ]
  },
  {
   "cell_type": "markdown",
   "metadata": {},
   "source": [
    "Majority of our columns contain strings. We will have to transform these strings so our model can use it."
   ]
  },
  {
   "cell_type": "code",
   "execution_count": 60,
   "metadata": {
    "scrolled": false
   },
   "outputs": [],
   "source": [
    "# telco_raw.dtypes"
   ]
  },
  {
   "cell_type": "markdown",
   "metadata": {},
   "source": [
    "**Step 1:** Separate the identifier (customer ID) and target variable (churn flag). \n",
    "\n",
    "**Step 2:** store in separate lists to use later.\n",
    "\n",
    "**Step 3:** separate categorical column names by defining a column as categorical if it has less than 10 unique values. ----- good practice to explore data to see if there are variables with more unique values.\n",
    "\n",
    "**Step 4:** remove target variable from the list so we dont' do transformations on it\n",
    "\n",
    "**Step 5:** store remaining columns named into a list called numerical. Use list comprehensions "
   ]
  },
  {
   "cell_type": "code",
   "execution_count": 61,
   "metadata": {},
   "outputs": [],
   "source": [
    "custid = ['customerID']\n",
    "target = ['Churn']"
   ]
  },
  {
   "cell_type": "code",
   "execution_count": 62,
   "metadata": {},
   "outputs": [],
   "source": [
    "categorical = telco_raw.nunique()[telco_raw.nunique()<10].keys().tolist()\n",
    "categorical.remove(target[0])\n",
    "numerical = [col for col in telco_raw.columns if col not in custid+target+categorical]"
   ]
  },
  {
   "cell_type": "markdown",
   "metadata": {},
   "source": [
    "One hot encoding: convert these variables into binary columns with ones and zeros."
   ]
  },
  {
   "cell_type": "code",
   "execution_count": 63,
   "metadata": {},
   "outputs": [],
   "source": [
    "#drop first so it wont be redundant\n",
    "telco_raw = pd.get_dummies(data=telco_raw, columns =categorical, drop_first = True)"
   ]
  },
  {
   "cell_type": "markdown",
   "metadata": {},
   "source": [
    "**Scaling Numerical Features:** "
   ]
  },
  {
   "cell_type": "code",
   "execution_count": 64,
   "metadata": {},
   "outputs": [],
   "source": [
    "#intialize instance\n",
    "scaler = StandardScaler()\n",
    "#fit scaler to numerical columns\n",
    "scaled_numerical = scaler.fit_transform(telco_raw[numerical])\n",
    "#build df\n",
    "scaled_numerical = pd.DataFrame(scaled_numerical, columns = numerical)"
   ]
  },
  {
   "cell_type": "code",
   "execution_count": 65,
   "metadata": {},
   "outputs": [],
   "source": [
    "#drop non sclaed numerical columns\n",
    "telco_raw = telco_raw.drop(columns = numerical, axis = 1)\n",
    "#merge non numerical with the scaled numerical data\n",
    "telco = telco_raw.merge(right = scaled_numerical, how = 'left', left_index = True, right_index = True)\n",
    "telco.dropna(inplace = True)"
   ]
  },
  {
   "cell_type": "markdown",
   "metadata": {},
   "source": [
    "# ML Modeling Steps"
   ]
  },
  {
   "cell_type": "markdown",
   "metadata": {},
   "source": [
    "Steps to building Supervised learning model\n",
    "- **Split** data to training and testing. This is important as we want to \"train\" the model on one set of data, and then measure its performance on unseen values or testing dataset to make sure it works well on unseed data.\n",
    "- **Intialize** the model\n",
    "- **Fit** the model on the training data\n",
    "- **Predict** values on the testing data\n",
    "- **Measure** model performance on testing data"
   ]
  },
  {
   "cell_type": "code",
   "execution_count": 67,
   "metadata": {},
   "outputs": [],
   "source": [
    "X = telco.loc[:, ~telco.columns.isin(['customerID', 'Churn', 'TotalCharges'])]\n",
    "Y = telco['Churn']"
   ]
  },
  {
   "cell_type": "code",
   "execution_count": 68,
   "metadata": {
    "scrolled": true
   },
   "outputs": [
    {
     "data": {
      "text/plain": [
       "0.7155858930602957"
      ]
     },
     "execution_count": 68,
     "metadata": {},
     "output_type": "execute_result"
    }
   ],
   "source": [
    "#example 1\n",
    "train_X, test_X, train_Y, test_Y = train_test_split(X, Y, test_size = 0.25) #defines the percentage to be reserved to testing dataset\n",
    "mytree=tree.DecisionTreeClassifier()\n",
    "treemodel = mytree.fit(train_X, train_Y)\n",
    "pred_Y = treemodel.predict(test_X)\n",
    "accuracy_score(test_Y, pred_Y)"
   ]
  },
  {
   "cell_type": "markdown",
   "metadata": {},
   "source": [
    "## Datacamp example"
   ]
  },
  {
   "cell_type": "code",
   "execution_count": 69,
   "metadata": {},
   "outputs": [
    {
     "name": "stdout",
     "output_type": "stream",
     "text": [
      "0.75\n",
      "0.25\n"
     ]
    }
   ],
   "source": [
    "#example 2 - advance\n",
    "train_X, test_X, train_Y, test_Y = train_test_split(X, Y, test_size = 0.25) #defines the percentage to be reserved to testing dataset\n",
    "#ensure train df has 75%\n",
    "print(train_X.shape[0]/X.shape[0])\n",
    "print(test_X.shape[0]/ X.shape[0])"
   ]
  },
  {
   "cell_type": "code",
   "execution_count": 70,
   "metadata": {},
   "outputs": [
    {
     "data": {
      "text/plain": [
       "0.7764505119453925"
      ]
     },
     "execution_count": 70,
     "metadata": {},
     "output_type": "execute_result"
    }
   ],
   "source": [
    "#intialize, fit, predict, \n",
    "mytree = tree.DecisionTreeClassifier(max_depth = 5)\n",
    "treemodel = mytree.fit(train_X, train_Y)\n",
    "pred_Y = treemodel.predict(test_X)\n",
    "#measure model perfomrance on testing data\n",
    "accuracy_score(test_Y, pred_Y)"
   ]
  },
  {
   "cell_type": "markdown",
   "metadata": {},
   "source": [
    "**Predict Churn WIth Decision Tree**"
   ]
  },
  {
   "cell_type": "code",
   "execution_count": 71,
   "metadata": {},
   "outputs": [
    {
     "name": "stdout",
     "output_type": "stream",
     "text": [
      "Training accuracy:  0.825\n",
      "Test accuracy:  0.779\n"
     ]
    }
   ],
   "source": [
    "clf = tree.DecisionTreeClassifier(max_depth = 7, criterion = 'gini', splitter = 'best')\n",
    "#fit and predict\n",
    "clf = clf.fit(train_X, train_Y)\n",
    "pred_Y = clf.predict(test_X)\n",
    "# Print accuracy values\n",
    "print(\"Training accuracy: \", np.round(clf.score(train_X, train_Y), 3)) \n",
    "print(\"Test accuracy: \", np.round(accuracy_score(test_Y, pred_Y), 3))"
   ]
  },
  {
   "cell_type": "markdown",
   "metadata": {},
   "source": [
    "Unsupervised\n",
    "- **Initialize** the model\n",
    "- **Fit** the model\n",
    "- **Assign** cluster values\n",
    "- **Explore** Results"
   ]
  },
  {
   "cell_type": "code",
   "execution_count": 72,
   "metadata": {
    "scrolled": true
   },
   "outputs": [
    {
     "data": {
      "text/plain": [
       "KMeans(n_clusters=3)"
      ]
     },
     "execution_count": 72,
     "metadata": {},
     "output_type": "execute_result"
    }
   ],
   "source": [
    "kmeans = KMeans(n_clusters = 3)\n",
    "kmeans.fit(telco.loc[:, ~telco.columns.isin(['customerID', 'Churn', 'TotalCharges'])])\n",
    "# telco.assign(Cluster = kmeans.labels_)\n",
    "# telco.groupby().mean()"
   ]
  },
  {
   "cell_type": "markdown",
   "metadata": {},
   "source": [
    "# Churn Predictions and Fundamentals"
   ]
  },
  {
   "cell_type": "code",
   "execution_count": 73,
   "metadata": {},
   "outputs": [
    {
     "data": {
      "text/plain": [
       "{'No', 'Yes'}"
      ]
     },
     "execution_count": 73,
     "metadata": {},
     "output_type": "execute_result"
    }
   ],
   "source": [
    "#print unique Churn values\n",
    "set(telco['Churn'])"
   ]
  },
  {
   "cell_type": "code",
   "execution_count": 74,
   "metadata": {},
   "outputs": [
    {
     "data": {
      "text/plain": [
       "Churn\n",
       "No     73.421502\n",
       "Yes    26.578498\n",
       "dtype: float64"
      ]
     },
     "execution_count": 74,
     "metadata": {},
     "output_type": "execute_result"
    }
   ],
   "source": [
    "#calculate ratio size of churn groups\n",
    "telco.groupby(['Churn']).size() / telco.shape[0] * 100"
   ]
  },
  {
   "cell_type": "code",
   "execution_count": 75,
   "metadata": {},
   "outputs": [],
   "source": [
    "train, test = train_test_split(telco, test_size = 0.25)"
   ]
  },
  {
   "cell_type": "code",
   "execution_count": 76,
   "metadata": {},
   "outputs": [],
   "source": [
    "target = ['Churn']\n",
    "custid = ['customerID']\n",
    "cols = [col for col in telco.columns if col not in custid + target]"
   ]
  },
  {
   "cell_type": "code",
   "execution_count": 77,
   "metadata": {},
   "outputs": [],
   "source": [
    "#build training and testing datasets\n",
    "train_X = train[cols]\n",
    "train_Y = train[target]\n",
    "test_X = test[cols]\n",
    "test_Y = test[target]"
   ]
  },
  {
   "cell_type": "markdown",
   "metadata": {},
   "source": [
    "Predict Churn with Logistic Regression -- revisit modeling steps"
   ]
  },
  {
   "cell_type": "code",
   "execution_count": 78,
   "metadata": {},
   "outputs": [],
   "source": [
    "logreg = LogisticRegression()"
   ]
  },
  {
   "cell_type": "code",
   "execution_count": 79,
   "metadata": {
    "scrolled": true
   },
   "outputs": [
    {
     "name": "stderr",
     "output_type": "stream",
     "text": [
      "C:\\Users\\blytle\\Anaconda3221\\lib\\site-packages\\sklearn\\utils\\validation.py:72: DataConversionWarning: A column-vector y was passed when a 1d array was expected. Please change the shape of y to (n_samples, ), for example using ravel().\n",
      "  return f(**kwargs)\n"
     ]
    },
    {
     "data": {
      "text/plain": [
       "LogisticRegression()"
      ]
     },
     "execution_count": 79,
     "metadata": {},
     "output_type": "execute_result"
    }
   ],
   "source": [
    "logreg.fit(train_X, train_Y)"
   ]
  },
  {
   "cell_type": "markdown",
   "metadata": {},
   "source": [
    "Key Metrics\n",
    "- **Accuracy:** The % of correctly predicted labels\n",
    "- **Precision:** The % of total model's positive class predictions that were correctly classified\n",
    "- **Recall:** The % of total positive class samples that were correctly classified"
   ]
  },
  {
   "cell_type": "code",
   "execution_count": 81,
   "metadata": {},
   "outputs": [
    {
     "name": "stdout",
     "output_type": "stream",
     "text": [
      "Training accuracy: 0.8075\n",
      "Test accuracy: 0.8003\n"
     ]
    }
   ],
   "source": [
    "pred_train_Y = logreg.predict(train_X)\n",
    "pred_test_Y = logreg.predict(test_X)\n",
    "train_accuracy = accuracy_score(train_Y, pred_train_Y)\n",
    "test_accuracy = accuracy_score(test_Y, pred_test_Y)\n",
    "print('Training accuracy:', round(train_accuracy, 4))\n",
    "print('Test accuracy:', round(test_accuracy, 4))"
   ]
  },
  {
   "cell_type": "code",
   "execution_count": 98,
   "metadata": {
    "scrolled": true
   },
   "outputs": [
    {
     "name": "stdout",
     "output_type": "stream",
     "text": [
      "Training precision: 0.6641, Training recall: 0.5554\n",
      "Testing precision: 0.6715, Testing recall: 0.4957\n"
     ]
    }
   ],
   "source": [
    "from sklearn.metrics import precision_score, recall_score\n",
    "train_precision =  round(precision_score(train_Y, pred_train_Y, pos_label=\"Yes\"), 4)\n",
    "test_precision = round(precision_score(test_Y, pred_test_Y,  pos_label=\"Yes\"), 4)\n",
    "train_recall = round(recall_score(train_Y, pred_train_Y,  pos_label=\"Yes\"), 4)\n",
    "test_recall = round(recall_score(test_Y, pred_test_Y,  pos_label=\"Yes\"), 4)\n",
    "print('Training precision: {}, Training recall: {}'.format(train_precision, train_recall))\n",
    "print('Testing precision: {}, Testing recall: {}'.format(test_precision, test_recall))"
   ]
  },
  {
   "cell_type": "markdown",
   "metadata": {},
   "source": [
    "L1 (aka lasso) regularization and feature selection"
   ]
  },
  {
   "cell_type": "code",
   "execution_count": 99,
   "metadata": {},
   "outputs": [
    {
     "name": "stderr",
     "output_type": "stream",
     "text": [
      "C:\\Users\\blytle\\Anaconda3221\\lib\\site-packages\\sklearn\\utils\\validation.py:72: DataConversionWarning: A column-vector y was passed when a 1d array was expected. Please change the shape of y to (n_samples, ), for example using ravel().\n",
      "  return f(**kwargs)\n"
     ]
    },
    {
     "data": {
      "text/plain": [
       "LogisticRegression(C=0.1, penalty='l1', solver='liblinear')"
      ]
     },
     "execution_count": 99,
     "metadata": {},
     "output_type": "execute_result"
    }
   ],
   "source": [
    "logreg = LogisticRegression(penalty = 'l1', C = 0.1, solver = 'liblinear')\n",
    "logreg.fit(train_X, train_Y)"
   ]
  },
  {
   "cell_type": "code",
   "execution_count": 107,
   "metadata": {},
   "outputs": [
    {
     "name": "stderr",
     "output_type": "stream",
     "text": [
      "C:\\Users\\blytle\\Anaconda3221\\lib\\site-packages\\sklearn\\utils\\validation.py:72: DataConversionWarning: A column-vector y was passed when a 1d array was expected. Please change the shape of y to (n_samples, ), for example using ravel().\n",
      "  return f(**kwargs)\n",
      "C:\\Users\\blytle\\Anaconda3221\\lib\\site-packages\\sklearn\\utils\\validation.py:72: DataConversionWarning: A column-vector y was passed when a 1d array was expected. Please change the shape of y to (n_samples, ), for example using ravel().\n",
      "  return f(**kwargs)\n",
      "C:\\Users\\blytle\\Anaconda3221\\lib\\site-packages\\sklearn\\utils\\validation.py:72: DataConversionWarning: A column-vector y was passed when a 1d array was expected. Please change the shape of y to (n_samples, ), for example using ravel().\n",
      "  return f(**kwargs)\n",
      "C:\\Users\\blytle\\Anaconda3221\\lib\\site-packages\\sklearn\\utils\\validation.py:72: DataConversionWarning: A column-vector y was passed when a 1d array was expected. Please change the shape of y to (n_samples, ), for example using ravel().\n",
      "  return f(**kwargs)\n",
      "C:\\Users\\blytle\\Anaconda3221\\lib\\site-packages\\sklearn\\utils\\validation.py:72: DataConversionWarning: A column-vector y was passed when a 1d array was expected. Please change the shape of y to (n_samples, ), for example using ravel().\n",
      "  return f(**kwargs)\n",
      "C:\\Users\\blytle\\Anaconda3221\\lib\\site-packages\\sklearn\\utils\\validation.py:72: DataConversionWarning: A column-vector y was passed when a 1d array was expected. Please change the shape of y to (n_samples, ), for example using ravel().\n",
      "  return f(**kwargs)\n",
      "C:\\Users\\blytle\\Anaconda3221\\lib\\site-packages\\sklearn\\utils\\validation.py:72: DataConversionWarning: A column-vector y was passed when a 1d array was expected. Please change the shape of y to (n_samples, ), for example using ravel().\n",
      "  return f(**kwargs)\n",
      "C:\\Users\\blytle\\Anaconda3221\\lib\\site-packages\\sklearn\\utils\\validation.py:72: DataConversionWarning: A column-vector y was passed when a 1d array was expected. Please change the shape of y to (n_samples, ), for example using ravel().\n",
      "  return f(**kwargs)\n",
      "C:\\Users\\blytle\\Anaconda3221\\lib\\site-packages\\sklearn\\utils\\validation.py:72: DataConversionWarning: A column-vector y was passed when a 1d array was expected. Please change the shape of y to (n_samples, ), for example using ravel().\n",
      "  return f(**kwargs)\n"
     ]
    },
    {
     "data": {
      "text/html": [
       "<div>\n",
       "<style scoped>\n",
       "    .dataframe tbody tr th:only-of-type {\n",
       "        vertical-align: middle;\n",
       "    }\n",
       "\n",
       "    .dataframe tbody tr th {\n",
       "        vertical-align: top;\n",
       "    }\n",
       "\n",
       "    .dataframe thead th {\n",
       "        text-align: right;\n",
       "    }\n",
       "</style>\n",
       "<table border=\"1\" class=\"dataframe\">\n",
       "  <thead>\n",
       "    <tr style=\"text-align: right;\">\n",
       "      <th></th>\n",
       "      <th>C</th>\n",
       "      <th>Non-Zero Coeffs</th>\n",
       "      <th>Accuracy</th>\n",
       "      <th>Precision</th>\n",
       "      <th>Recall</th>\n",
       "    </tr>\n",
       "  </thead>\n",
       "  <tbody>\n",
       "    <tr>\n",
       "      <th>0</th>\n",
       "      <td>1.0000</td>\n",
       "      <td>28.0</td>\n",
       "      <td>0.801479</td>\n",
       "      <td>0.674352</td>\n",
       "      <td>0.497872</td>\n",
       "    </tr>\n",
       "    <tr>\n",
       "      <th>1</th>\n",
       "      <td>0.5000</td>\n",
       "      <td>21.0</td>\n",
       "      <td>0.800910</td>\n",
       "      <td>0.674419</td>\n",
       "      <td>0.493617</td>\n",
       "    </tr>\n",
       "    <tr>\n",
       "      <th>2</th>\n",
       "      <td>0.2500</td>\n",
       "      <td>20.0</td>\n",
       "      <td>0.800910</td>\n",
       "      <td>0.674419</td>\n",
       "      <td>0.493617</td>\n",
       "    </tr>\n",
       "    <tr>\n",
       "      <th>3</th>\n",
       "      <td>0.1000</td>\n",
       "      <td>18.0</td>\n",
       "      <td>0.800341</td>\n",
       "      <td>0.675516</td>\n",
       "      <td>0.487234</td>\n",
       "    </tr>\n",
       "    <tr>\n",
       "      <th>4</th>\n",
       "      <td>0.0500</td>\n",
       "      <td>15.0</td>\n",
       "      <td>0.796928</td>\n",
       "      <td>0.668657</td>\n",
       "      <td>0.476596</td>\n",
       "    </tr>\n",
       "    <tr>\n",
       "      <th>5</th>\n",
       "      <td>0.0250</td>\n",
       "      <td>14.0</td>\n",
       "      <td>0.793515</td>\n",
       "      <td>0.670927</td>\n",
       "      <td>0.446809</td>\n",
       "    </tr>\n",
       "    <tr>\n",
       "      <th>6</th>\n",
       "      <td>0.0100</td>\n",
       "      <td>8.0</td>\n",
       "      <td>0.793515</td>\n",
       "      <td>0.698885</td>\n",
       "      <td>0.400000</td>\n",
       "    </tr>\n",
       "    <tr>\n",
       "      <th>7</th>\n",
       "      <td>0.0050</td>\n",
       "      <td>3.0</td>\n",
       "      <td>0.782139</td>\n",
       "      <td>0.712195</td>\n",
       "      <td>0.310638</td>\n",
       "    </tr>\n",
       "    <tr>\n",
       "      <th>8</th>\n",
       "      <td>0.0025</td>\n",
       "      <td>2.0</td>\n",
       "      <td>0.731513</td>\n",
       "      <td>0.000000</td>\n",
       "      <td>0.000000</td>\n",
       "    </tr>\n",
       "  </tbody>\n",
       "</table>\n",
       "</div>"
      ],
      "text/plain": [
       "        C  Non-Zero Coeffs  Accuracy  Precision    Recall\n",
       "0  1.0000             28.0  0.801479   0.674352  0.497872\n",
       "1  0.5000             21.0  0.800910   0.674419  0.493617\n",
       "2  0.2500             20.0  0.800910   0.674419  0.493617\n",
       "3  0.1000             18.0  0.800341   0.675516  0.487234\n",
       "4  0.0500             15.0  0.796928   0.668657  0.476596\n",
       "5  0.0250             14.0  0.793515   0.670927  0.446809\n",
       "6  0.0100              8.0  0.793515   0.698885  0.400000\n",
       "7  0.0050              3.0  0.782139   0.712195  0.310638\n",
       "8  0.0025              2.0  0.731513   0.000000  0.000000"
      ]
     },
     "execution_count": 107,
     "metadata": {},
     "output_type": "execute_result"
    }
   ],
   "source": [
    "# checking which C values are best\n",
    "C = [1, .5, .25, .1, .05, .025, .01, .005, .0025]\n",
    "l1_metrics = np.zeros((len(C), 5))\n",
    "l1_metrics[:,0] = C\n",
    "for index in range(0, len(C)):\n",
    "    logreg = LogisticRegression(penalty='l1', C=C[index], solver='liblinear')\n",
    "    logreg.fit(train_X, train_Y)\n",
    "    pred_test_Y = logreg.predict(test_X)\n",
    "    l1_metrics[index,1] = np.count_nonzero(logreg.coef_)\n",
    "    l1_metrics[index,2] = accuracy_score(test_Y, pred_test_Y)\n",
    "    l1_metrics[index,3] = precision_score(test_Y, pred_test_Y, pos_label=\"Yes\")\n",
    "    l1_metrics[index,4] = recall_score(test_Y, pred_test_Y, pos_label=\"Yes\")\n",
    "\n",
    "col_names = ['C','Non-Zero Coeffs','Accuracy','Precision','Recall']\n",
    "pd.DataFrame(l1_metrics, columns = col_names)"
   ]
  },
  {
   "cell_type": "markdown",
   "metadata": {},
   "source": [
    "**Predict Churn with Decision Trees**"
   ]
  },
  {
   "cell_type": "code",
   "execution_count": 109,
   "metadata": {},
   "outputs": [],
   "source": [
    "from sklearn.tree import DecisionTreeClassifier\n",
    "mytree = DecisionTreeClassifier()\n",
    "treemodel = mytree.fit(train_X, train_Y)"
   ]
  },
  {
   "cell_type": "code",
   "execution_count": 111,
   "metadata": {},
   "outputs": [
    {
     "name": "stdout",
     "output_type": "stream",
     "text": [
      "Training Accuracy: 0.9985\n",
      "Test Accurracy: 0.723\n"
     ]
    }
   ],
   "source": [
    "pred_train_Y = mytree.predict(train_X)\n",
    "pred_test_Y = mytree.predict(test_X)\n",
    "train_accuracy = accuracy_score(train_Y, pred_train_Y)\n",
    "test_accuracy = accuracy_score(test_Y, pred_test_Y)\n",
    "print('Training Accuracy:', round(train_accuracy, 4))\n",
    "print('Test Accurracy:', round(test_accuracy, 4))"
   ]
  },
  {
   "cell_type": "markdown",
   "metadata": {},
   "source": [
    "This indicates that the tree memorized the patterns and rules for the training data almost perfectly, but failed to generalize the rules for the testing data."
   ]
  },
  {
   "cell_type": "code",
   "execution_count": 112,
   "metadata": {},
   "outputs": [
    {
     "name": "stdout",
     "output_type": "stream",
     "text": [
      "Training precision: 1.0, Training recall: 0.9943\n",
      "Testing precision: 0.4815, Testing recall: 0.4702\n"
     ]
    }
   ],
   "source": [
    "train_precision =  round(precision_score(train_Y, pred_train_Y, pos_label=\"Yes\"), 4)\n",
    "test_precision = round(precision_score(test_Y, pred_test_Y,  pos_label=\"Yes\"), 4)\n",
    "train_recall = round(recall_score(train_Y, pred_train_Y,  pos_label=\"Yes\"), 4)\n",
    "test_recall = round(recall_score(test_Y, pred_test_Y,  pos_label=\"Yes\"), 4)\n",
    "print('Training precision: {}, Training recall: {}'.format(train_precision, train_recall))\n",
    "print('Testing precision: {}, Testing recall: {}'.format(test_precision, test_recall))"
   ]
  },
  {
   "cell_type": "markdown",
   "metadata": {},
   "source": [
    "Tree Depth Parameter Tuning"
   ]
  },
  {
   "cell_type": "code",
   "execution_count": 115,
   "metadata": {},
   "outputs": [],
   "source": [
    "depth_list = list(range(2,15))\n",
    "depth_tuning = np.zeros((len(depth_list), 4))\n",
    "depth_tuning[:,0] = depth_list\n",
    "for index in range(len(depth_list)):\n",
    "    mytree = DecisionTreeClassifier(max_depth=depth_list[index])\n",
    "    mytree.fit(train_X, train_Y)\n",
    "    pred_test_Y = mytree.predict(test_X)\n",
    "    depth_tuning[index,1] = accuracy_score(test_Y, pred_test_Y)\n",
    "    depth_tuning[index,2] = precision_score(test_Y, pred_test_Y,pos_label=\"Yes\")\n",
    "    depth_tuning[index,3] = recall_score(test_Y, pred_test_Y,pos_label=\"Yes\")"
   ]
  },
  {
   "cell_type": "code",
   "execution_count": 116,
   "metadata": {},
   "outputs": [
    {
     "name": "stdout",
     "output_type": "stream",
     "text": [
      "    Max_Depth  Accuracy  Precision    Recall\n",
      "0         2.0  0.779295   0.713542  0.291489\n",
      "1         3.0  0.779295   0.713542  0.291489\n",
      "2         4.0  0.778726   0.661355  0.353191\n",
      "3         5.0  0.790102   0.630491  0.519149\n",
      "4         6.0  0.792947   0.659639  0.465957\n",
      "5         7.0  0.792378   0.654867  0.472340\n",
      "6         8.0  0.775313   0.608696  0.446809\n",
      "7         9.0  0.767349   0.583106  0.455319\n",
      "8        10.0  0.762230   0.564356  0.485106\n",
      "9        11.0  0.753697   0.545012  0.476596\n",
      "10       12.0  0.744596   0.527273  0.431915\n",
      "11       13.0  0.742321   0.519630  0.478723\n",
      "12       14.0  0.741183   0.517241  0.478723\n"
     ]
    }
   ],
   "source": [
    "col_names = ['Max_Depth','Accuracy','Precision','Recall']\n",
    "print(pd.DataFrame(depth_tuning, columns=col_names))"
   ]
  },
  {
   "cell_type": "markdown",
   "metadata": {},
   "source": [
    "**Identifying and Interpreting Churn Drivers**"
   ]
  },
  {
   "cell_type": "code",
   "execution_count": 122,
   "metadata": {},
   "outputs": [],
   "source": [
    "from sklearn import tree\n",
    "import graphviz"
   ]
  },
  {
   "cell_type": "code",
   "execution_count": 124,
   "metadata": {},
   "outputs": [],
   "source": [
    "exported = tree.export_graphviz(decision_tree = mytree, out_file = None,\n",
    "                               feature_names = cols, precision = 1,\n",
    "                               class_names = ['Not churn', 'Churn'], filled= True)\n",
    "graph = graphviz.Source(exported)\n",
    "# display(graph)"
   ]
  },
  {
   "cell_type": "code",
   "execution_count": 127,
   "metadata": {},
   "outputs": [
    {
     "name": "stdout",
     "output_type": "stream",
     "text": [
      "           Feature  Coefficient  Exp_Coefficient\n",
      "27          tenure    -0.403667         0.667866\n",
      "28  MonthlyCharges     0.156126         1.168973\n"
     ]
    }
   ],
   "source": [
    "coefficients = pd.concat([pd.DataFrame(train_X.columns),\n",
    "                          pd.DataFrame(np.transpose(logreg.coef_))],axis = 1)\n",
    "coefficients.columns = ['Feature','Coefficient']\n",
    "coefficients['Exp_Coefficient'] = np.exp(coefficients['Coefficient'])\n",
    "coefficients = coefficients[coefficients['Coefficient']!=0]\n",
    "print(coefficients.sort_values(by=['Coefficient']))"
   ]
  }
 ],
 "metadata": {
  "kernelspec": {
   "display_name": "Python 3",
   "language": "python",
   "name": "python3"
  },
  "language_info": {
   "codemirror_mode": {
    "name": "ipython",
    "version": 3
   },
   "file_extension": ".py",
   "mimetype": "text/x-python",
   "name": "python",
   "nbconvert_exporter": "python",
   "pygments_lexer": "ipython3",
   "version": "3.8.5"
  }
 },
 "nbformat": 4,
 "nbformat_minor": 4
}
